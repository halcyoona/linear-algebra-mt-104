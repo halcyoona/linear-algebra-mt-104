{
 "cells": [
  {
   "cell_type": "code",
   "execution_count": 187,
   "metadata": {},
   "outputs": [],
   "source": [
    "class matrix(object):\n",
    "    \"\"\"docstring for matrix\"\"\"\n",
    "    def __init__(self, row, col):\n",
    "        self.mat = []\n",
    "        self.rows = row\n",
    "        self.columns = col\n",
    "        for i in range(0,self.rows):\n",
    "            self.mat.append([])\n",
    "            for j in range(0, self.columns):\n",
    "                self.mat[i].append(0)\n",
    "\n",
    "    def setDeepCopy(self,valMat):\n",
    "        self.mat = []\n",
    "        for i in range(0,self.rows):\n",
    "            self.mat.append([])\n",
    "            for j in range(0, self.columns):\n",
    "                self.mat[i].append(valMat[i][j])\n",
    "\n",
    "    def setShalowCopy(self,valMat):\n",
    "        self.mat = valMat\n",
    "\n",
    "    def __str__(self):\n",
    "        returnStr = \"\"\n",
    "        for i in range(0,self.rows):\n",
    "            for j in range(0,self.columns):\n",
    "                returnStr += str(self.mat[i][j])\n",
    "                returnStr += \" \"\n",
    "            if i+1 != self.rows:\n",
    "                returnStr += \"\\n\"\n",
    "        return returnStr \n",
    "    \n",
    "\n",
    "    def countZeroInRow(self,arr):\n",
    "        count = 0\n",
    "        for i in range(0, self.columns):\n",
    "            if arr[i] != 0:\n",
    "                return count\n",
    "            else:\n",
    "                count += 1\n",
    "        return count\n",
    "    \n",
    "    def checkEchelonForm(self):\n",
    "        if self.rows == self.columns == 0:\n",
    "            return False\n",
    "        elif self.rows == 1:\n",
    "            return True\n",
    "        else:\n",
    "            lowestNumberOfZeros = -1\n",
    "            for i in range(0, self.rows):\n",
    "                numberOfZeros = self.countZeroInRow(self.mat[i])\n",
    "                if lowestNumberOfZeros < numberOfZeros:\n",
    "                    lowestNumberOfZeros = numberOfZeros\n",
    "                elif lowestNumberOfZeros == numberOfZeros:\n",
    "                    if numberOfZeros == self.columns:\n",
    "                        continue\n",
    "                    else:\n",
    "                        return False\n",
    "                else:\n",
    "                    return False\n",
    "            return True\n",
    "    \n",
    "    \n",
    "    \n",
    "    def checkReduceEchelonForm(self):\n",
    "        if self.rows == self.columns == 0:\n",
    "            return False\n",
    "        elif self.rows == 1:\n",
    "            return True\n",
    "        else:\n",
    "            lowestNumberOfZeros = -1\n",
    "            for i in range(0, self.rows):\n",
    "                numberOfZeros = 0\n",
    "                for j in range(0, self.columns):\n",
    "                    if self.mat[i][j] == 0:\n",
    "                        numberOfZeros += 1\n",
    "                    elif self.mat[i][j] == 1:\n",
    "                        for k in range(0, self.rows):\n",
    "                            if id(self.mat[k][j]) == id(self.mat[i][j]) or self.mat[k][j] == 0:\n",
    "                                continue\n",
    "                            else:\n",
    "                                return False\n",
    "                        break\n",
    "                    else:\n",
    "                        return False\n",
    "                if lowestNumberOfZeros < numberOfZeros:\n",
    "                    lowestNumberOfZeros = numberOfZeros\n",
    "                elif lowestNumberOfZeros == numberOfZeros:\n",
    "                    if numberOfZeros == self.columns:\n",
    "                        continue\n",
    "                    else:\n",
    "                        return False\n",
    "                else:\n",
    "                    return False\n",
    "            return True\n",
    "    \n",
    "    "
   ]
  },
  {
   "cell_type": "code",
   "execution_count": 188,
   "metadata": {},
   "outputs": [],
   "source": [
    "m = matrix(3,3)"
   ]
  },
  {
   "cell_type": "code",
   "execution_count": 189,
   "metadata": {},
   "outputs": [],
   "source": [
    "t = [[1,0,0],[0,1,0],[0,0,1]]"
   ]
  },
  {
   "cell_type": "code",
   "execution_count": 190,
   "metadata": {},
   "outputs": [],
   "source": [
    "m.setDeepCopy(t)"
   ]
  },
  {
   "cell_type": "code",
   "execution_count": 191,
   "metadata": {},
   "outputs": [
    {
     "data": {
      "text/plain": [
       "True"
      ]
     },
     "execution_count": 191,
     "metadata": {},
     "output_type": "execute_result"
    }
   ],
   "source": [
    "m.checkEchelonForm()"
   ]
  },
  {
   "cell_type": "code",
   "execution_count": 192,
   "metadata": {},
   "outputs": [
    {
     "name": "stdout",
     "output_type": "stream",
     "text": [
      "1 0 0 \n",
      "0 1 0 \n",
      "0 0 1 \n"
     ]
    }
   ],
   "source": [
    "print(m)"
   ]
  },
  {
   "cell_type": "code",
   "execution_count": 193,
   "metadata": {},
   "outputs": [
    {
     "name": "stdout",
     "output_type": "stream",
     "text": [
      "0\n",
      "1\n",
      "2\n"
     ]
    },
    {
     "data": {
      "text/plain": [
       "True"
      ]
     },
     "execution_count": 193,
     "metadata": {},
     "output_type": "execute_result"
    }
   ],
   "source": [
    "m.checkReduceEchelonForm()"
   ]
  },
  {
   "cell_type": "code",
   "execution_count": null,
   "metadata": {},
   "outputs": [],
   "source": []
  }
 ],
 "metadata": {
  "kernelspec": {
   "display_name": "Python 3",
   "language": "python",
   "name": "python3"
  },
  "language_info": {
   "codemirror_mode": {
    "name": "ipython",
    "version": 3
   },
   "file_extension": ".py",
   "mimetype": "text/x-python",
   "name": "python",
   "nbconvert_exporter": "python",
   "pygments_lexer": "ipython3",
   "version": "3.5.2"
  }
 },
 "nbformat": 4,
 "nbformat_minor": 2
}
